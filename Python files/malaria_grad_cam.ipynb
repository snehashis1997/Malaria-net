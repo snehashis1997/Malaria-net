{
  "nbformat": 4,
  "nbformat_minor": 0,
  "metadata": {
    "colab": {
      "name": "malaria grad cam.ipynb",
      "provenance": []
    },
    "kernelspec": {
      "name": "python3",
      "display_name": "Python 3"
    },
    "accelerator": "GPU"
  },
  "cells": [
    {
      "cell_type": "markdown",
      "metadata": {
        "id": "yztNRCf1mwse"
      },
      "source": [
        "# Configure your Notebook with your Google drive"
      ]
    },
    {
      "cell_type": "code",
      "metadata": {
        "id": "ferm-q-lE-q2",
        "outputId": "9ef54f5c-77fd-4a8a-9ee4-55528990b812",
        "colab": {
          "base_uri": "https://localhost:8080/",
          "height": 34
        }
      },
      "source": [
        "from google.colab import drive\n",
        "drive.mount('/content/drive')"
      ],
      "execution_count": 9,
      "outputs": [
        {
          "output_type": "stream",
          "text": [
            "Drive already mounted at /content/drive; to attempt to forcibly remount, call drive.mount(\"/content/drive\", force_remount=True).\n"
          ],
          "name": "stdout"
        }
      ]
    },
    {
      "cell_type": "markdown",
      "metadata": {
        "id": "gbfWUmlEm9ki"
      },
      "source": [
        "# Import necessary  libraries"
      ]
    },
    {
      "cell_type": "code",
      "metadata": {
        "id": "ssQ3e3ryFNvd"
      },
      "source": [
        "# Keras Imports\n",
        "import random\n",
        "from tensorflow.keras import models\n",
        "\n",
        "import numpy as np\n",
        "import tensorflow as tf\n",
        "from tensorflow import keras\n",
        "\n",
        "# Display\n",
        "from IPython.display import Image\n",
        "import matplotlib.pyplot as plt\n",
        "import matplotlib.cm as cm\n",
        "from keras.preprocessing.image import load_img, img_to_array\n",
        "from keras import backend as K\n",
        "from keras.models import Sequential\n",
        "from keras.layers import Conv2D, MaxPooling2D, Flatten, Dense, Dropout, BatchNormalization\n",
        "from keras.preprocessing.image import ImageDataGenerator\n",
        "from keras.optimizers import Adam\n",
        "from keras.losses import binary_crossentropy\n",
        "from tensorflow.keras.layers import GlobalAveragePooling2D\n",
        "# Other imports\n",
        "import matplotlib.pyplot as plt\n",
        "import glob\n",
        "import cv2\n",
        "from keras.models import load_model"
      ],
      "execution_count": 10,
      "outputs": []
    },
    {
      "cell_type": "code",
      "metadata": {
        "id": "kD6UPP-YFBjh"
      },
      "source": [
        "# load model\n",
        "model = load_model(\"/content/drive/My Drive/malaria/model_64_64_3.h5\")"
      ],
      "execution_count": 11,
      "outputs": []
    },
    {
      "cell_type": "code",
      "metadata": {
        "id": "WTWs6hUYFBmo",
        "outputId": "0798dfb5-c457-4a7e-822d-16bd81cd4046",
        "colab": {
          "base_uri": "https://localhost:8080/",
          "height": 663
        }
      },
      "source": [
        "# summarize model.\n",
        "model.summary()"
      ],
      "execution_count": 12,
      "outputs": [
        {
          "output_type": "stream",
          "text": [
            "Model: \"sequential_1\"\n",
            "_________________________________________________________________\n",
            "Layer (type)                 Output Shape              Param #   \n",
            "=================================================================\n",
            "conv2d_1 (Conv2D)            (None, 62, 62, 32)        896       \n",
            "_________________________________________________________________\n",
            "max_pooling2d_1 (MaxPooling2 (None, 31, 31, 32)        0         \n",
            "_________________________________________________________________\n",
            "batch_normalization_1 (Batch (None, 31, 31, 32)        128       \n",
            "_________________________________________________________________\n",
            "conv2d_2 (Conv2D)            (None, 29, 29, 32)        9248      \n",
            "_________________________________________________________________\n",
            "max_pooling2d_2 (MaxPooling2 (None, 14, 14, 32)        0         \n",
            "_________________________________________________________________\n",
            "batch_normalization_2 (Batch (None, 14, 14, 32)        128       \n",
            "_________________________________________________________________\n",
            "f1 (Conv2D)                  (None, 12, 12, 32)        9248      \n",
            "_________________________________________________________________\n",
            "max_pooling2d_3 (MaxPooling2 (None, 6, 6, 32)          0         \n",
            "_________________________________________________________________\n",
            "batch_normalization_3 (Batch (None, 6, 6, 32)          128       \n",
            "_________________________________________________________________\n",
            "dropout_1 (Dropout)          (None, 6, 6, 32)          0         \n",
            "_________________________________________________________________\n",
            "flatten_1 (Flatten)          (None, 1152)              0         \n",
            "_________________________________________________________________\n",
            "dense_1 (Dense)              (None, 256)               295168    \n",
            "_________________________________________________________________\n",
            "batch_normalization_4 (Batch (None, 256)               1024      \n",
            "_________________________________________________________________\n",
            "dropout_2 (Dropout)          (None, 256)               0         \n",
            "_________________________________________________________________\n",
            "dense_2 (Dense)              (None, 1)                 257       \n",
            "=================================================================\n",
            "Total params: 316,225\n",
            "Trainable params: 315,521\n",
            "Non-trainable params: 704\n",
            "_________________________________________________________________\n"
          ],
          "name": "stdout"
        }
      ]
    },
    {
      "cell_type": "markdown",
      "metadata": {
        "id": "wj3fmSnYnXJM"
      },
      "source": [
        "# load files from google drive"
      ]
    },
    {
      "cell_type": "code",
      "metadata": {
        "id": "wZwy1tD2Pu_z"
      },
      "source": [
        "files = glob.glob(r\"/content/drive/My Drive/malaria/cell_images//Parasitized/*.png\")"
      ],
      "execution_count": 13,
      "outputs": []
    },
    {
      "cell_type": "code",
      "metadata": {
        "id": "ntvQDLqlP3Io"
      },
      "source": [
        ""
      ],
      "execution_count": 13,
      "outputs": []
    },
    {
      "cell_type": "code",
      "metadata": {
        "id": "GxYnVxpGP3MQ"
      },
      "source": [
        ""
      ],
      "execution_count": 13,
      "outputs": []
    },
    {
      "cell_type": "code",
      "metadata": {
        "id": "7j4dZNl-P3Qv",
        "outputId": "b8f50a35-655d-4746-b9b9-5cdaa1e8a5ce",
        "colab": {
          "base_uri": "https://localhost:8080/",
          "height": 285
        }
      },
      "source": [
        "#create a random number\n",
        "num = random.randint(0,1000)\n",
        "\n",
        "# read a random image\n",
        "img = cv2.imread(files[num])\n",
        "\n",
        "# save the image local disk\n",
        "plt.imsave(r\"/content/sample_data/img.png\",img)\n",
        "\n",
        "# BGR2RGB\n",
        "img = cv2.cvtColor(img, cv2.COLOR_BGR2RGB)\n",
        "\n",
        "#Resizing it to (64,64,3)\n",
        "img = cv2.resize(img,(64,64))\n",
        "\n",
        "#Expand dims in axis = 0\n",
        "img = np.expand_dims(img, axis=0)\n",
        "\n",
        "# Generate prediction\n",
        "pred = model.predict(img)\n",
        "\n",
        "# Generate prediction class\n",
        "pred_output = model.output[:, np.argmax(pred)]\n",
        "\n",
        "# Feature map of 'f1' layer, which is the last convolution layer\n",
        "last_conv_layer = model.get_layer('f1')\n",
        "\n",
        "# create a functional model\n",
        "last_conv_layer_model = Model(model.inputs, last_conv_layer.output)\n",
        "\n",
        "# New model's input shape\n",
        "classifier_input = Input(shape=last_conv_layer.output.shape[1:])\n",
        "x = classifier_input\n",
        "\n",
        "# My model's classification layers (add layer names from last conv layer upto prediction layer)\n",
        "classifier_layer_names = [\"max_pooling2d_3\",'batch_normalization_3','dropout_1','flatten_1',\"dense_1\",\"batch_normalization_4\",'dropout_2']\n",
        "\n",
        "\n",
        "for layer_name in classifier_layer_names:\n",
        "    x = model.get_layer(layer_name)(x)\n",
        "\n",
        "# Functional model creation\n",
        "classifier_model = Model(classifier_input, x)\n",
        "\n",
        "# Compute gradients\n",
        "with tf.GradientTape() as tape:\n",
        "    last_conv_layer_output = last_conv_layer_model(img)\n",
        "    tape.watch(last_conv_layer_output)\n",
        "    \n",
        "    preds = classifier_model(last_conv_layer_output)\n",
        "    top_pred_index = tf.argmax(preds[0])\n",
        "    top_class_channel = preds[:, top_pred_index]\n",
        "    \n",
        "grads = tape.gradient(top_class_channel, last_conv_layer_output)\n",
        "pooled_grads = tf.reduce_mean(grads, axis=(0, 1, 2))\n",
        "\n",
        "last_conv_layer_output = last_conv_layer_output.numpy()[0]\n",
        "pooled_grads = pooled_grads.numpy()\n",
        "for i in range(pooled_grads.shape[-1]):\n",
        "    last_conv_layer_output[:, :, i] *= pooled_grads[i]\n",
        "\n",
        "#Calculate heat map\n",
        "heatmap = np.mean(last_conv_layer_output, axis=-1)\n",
        "heatmap = np.maximum(heatmap, 0)\n",
        "\n",
        "    \n",
        "heatmap = np.uint8(255*heatmap)\n",
        "\n",
        "# apply jet color map\n",
        "#heatmap = cv2.applyColorMap(heatmap, cv2.COLORMAP_JET)\n",
        "heatmap = cv2.resize(heatmap,(64,64))\n",
        "heatmap = heatmap.reshape((64,64))\n",
        "\n",
        "\n",
        "plt.figure(figsize = [10,10])\n",
        "plt.subplot(1,2,1)\n",
        "plt.imshow(img.reshape(64,64,3))\n",
        "plt.axis(\"off\");\n",
        "\n",
        "plt.subplot(1,2,2)\n",
        "plt.imshow(heatmap,cmap = 'jet')\n",
        "plt.axis(\"off\");"
      ],
      "execution_count": 14,
      "outputs": [
        {
          "output_type": "display_data",
          "data": {
            "image/png": "[encoded data removed]",
            "text/plain": [
              "<Figure size 720x720 with 2 Axes>"
            ]
          },
          "metadata": {
            "tags": [],
            "needs_background": "light"
          }
        }
      ]
    },
    {
      "cell_type": "code",
      "metadata": {
        "id": "LHOAZQJviDDg"
      },
      "source": [
        ""
      ],
      "execution_count": 14,
      "outputs": []
    }
  ]
}